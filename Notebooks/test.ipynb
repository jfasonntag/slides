{
 "cells": [
  {
   "cell_type": "markdown",
   "metadata": {},
   "source": [
    "% Computational Economics\n",
    "% Florian Oswald\n",
    "% Sciences Po, Spring 2016\n",
    "\n",
    "# Work in Progress\n",
    "\n",
    "## These slides are work in progress.\n",
    "\n",
    "Please check back in Spring 2016!\n",
    "\n",
    "-----------------------\n",
    "\n",
    "# Outline\n",
    "\n",
    "\n",
    "\n",
    "## Objectives\n",
    "\n",
    "0. zero\n",
    "1. one\n",
    "2. two\n",
    "3. three\n",
    "\n",
    "## tasks\n",
    "\n",
    "* do it\n",
    "* do it\n",
    "\n",
    "------------------------\n",
    "\n",
    "\n",
    "# Evaluation\n",
    "\n",
    ">I'm going to quote you!\n",
    "\n",
    "\n",
    "-----------------------\n",
    "\n",
    "# What next?\n",
    "\n",
    "* maybe some *maths*?\n",
    "\t* you mean like $\\alpha + \\xi = \\eta$?\n",
    "\t* yep.\n",
    "* cool!\n",
    "\n",
    "## Bibliography\n",
    "\n",
    "Here is what Jesus [@jesus-computing] said.\n",
    "And of course [@judd-su] are very important here.\n",
    "\n",
    "-----------------\n",
    "\n",
    "# Obviously: Code!"
   ]
  },
  {
   "cell_type": "code",
   "execution_count": null,
   "metadata": {
    "attributes": {
     "classes": [
      "julia"
     ],
     "id": ""
    }
   },
   "outputs": [],
   "source": [
    "# a type\n",
    "type Param\n",
    "\tbeta::Float64\n",
    "\tV::Array\n",
    "\toptions::Dict\n",
    "end\n",
    "\n",
    "# a method for Param\n",
    "function doit(p::Param)\n",
    "\t# do stuff with p\n",
    "end"
   ]
  },
  {
   "cell_type": "markdown",
   "metadata": {},
   "source": [
    "------------------\n",
    "\n",
    "\n",
    "# References"
   ]
  }
 ],
 "metadata": {},
 "nbformat": 4,
 "nbformat_minor": 0
}
